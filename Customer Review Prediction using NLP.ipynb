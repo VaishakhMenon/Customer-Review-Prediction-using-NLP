{
 "cells": [
  {
   "cell_type": "code",
   "execution_count": 2,
   "id": "63dfa0b1-fb15-4281-a402-5304a8fb8e24",
   "metadata": {},
   "outputs": [],
   "source": [
    "# Import the necessary libraries\n",
    "import pandas as pd\n",
    "from sklearn.feature_extraction.text import TfidfVectorizer"
   ]
  },
  {
   "cell_type": "code",
   "execution_count": 3,
   "id": "b9d15e73-00a3-45c4-92c8-f22a9f6706ef",
   "metadata": {},
   "outputs": [],
   "source": [
    "# Load the dataset\n",
    "file_path = \"/Users/vaishakhmenon/Downloads/Required Assignment 20.2_Dataset (1).csv\"\n",
    "data = pd.read_csv(file_path, on_bad_lines='skip')"
   ]
  },
  {
   "cell_type": "code",
   "execution_count": 4,
   "id": "25152c4b-fa03-4e58-ad39-f2a63f6fc2f0",
   "metadata": {},
   "outputs": [],
   "source": [
    "# Remove all observations where the reviews are \"Neutral\" based on the score value\n",
    "data = data[data['Score'] != 3]"
   ]
  },
  {
   "cell_type": "code",
   "execution_count": 5,
   "id": "9d2a7eee-4674-49a1-91b4-ac2d159c7382",
   "metadata": {},
   "outputs": [],
   "source": [
    "# Replace the values of the score column with \"Positive\" or \"Negative\" based on the score value\n",
    "data['Score'] = data['Score'].apply(lambda x: 'Positive' if x > 3 else 'Negative')"
   ]
  },
  {
   "cell_type": "code",
   "execution_count": 7,
   "id": "00dcf32d-c3b1-4f2c-b5f4-8fd347739c97",
   "metadata": {},
   "outputs": [],
   "source": [
    "# Remove duplicates\n",
    "data = data.drop_duplicates()"
   ]
  },
  {
   "cell_type": "code",
   "execution_count": 8,
   "id": "e095e7b1-4207-40c2-92d2-2604b1dec549",
   "metadata": {},
   "outputs": [],
   "source": [
    "# Remove rows where the Helpfulness Numerator is greater than the Helpfulness Denominator\n",
    "data = data[data['HelpfulnessNumerator'] <= data['HelpfulnessDenominator']]"
   ]
  },
  {
   "cell_type": "code",
   "execution_count": 9,
   "id": "249ff331-e9c1-48cf-a46f-7ad552b83f03",
   "metadata": {},
   "outputs": [],
   "source": [
    "# Store the resulting dataframe in a variable called \"Updated\"\n",
    "Updated = data.copy()"
   ]
  },
  {
   "cell_type": "code",
   "execution_count": 10,
   "id": "62742e98-753e-411f-be05-3eb00bf9fd6a",
   "metadata": {},
   "outputs": [],
   "source": [
    "# Calculate TF-IDF\n",
    "tfidf = TfidfVectorizer(stop_words='english')\n",
    "tfidf_matrix = tfidf.fit_transform(Updated['Text'])"
   ]
  },
  {
   "cell_type": "code",
   "execution_count": 11,
   "id": "5d79ccbc-521f-4a49-9f7d-2726957ae2b0",
   "metadata": {},
   "outputs": [
    {
     "data": {
      "text/plain": [
       "(   Id   ProductId          UserId                      ProfileName  \\\n",
       " 0   1  B001E4KFG0  A3SGXH7AUHU8GW                       delmartian   \n",
       " 1   2  B00813GRG4  A1D87F6ZCVE5NK                           dll pa   \n",
       " 2   3  B000LQOCH0   ABXLMWJIXXAIN  Natalia Corres \"Natalia Corres\"   \n",
       " 3   4  B000UA0QIQ  A395BORC6FGVXV                             Karl   \n",
       " 4   5  B006K2ZZ7K  A1UQRSCLF8GW1T    Michael D. Bigham \"M. Wassir\"   \n",
       " \n",
       "    HelpfulnessNumerator  HelpfulnessDenominator     Score        Time  \\\n",
       " 0                     1                       1  Positive  1303862400   \n",
       " 1                     0                       0  Negative  1346976000   \n",
       " 2                     1                       1  Positive  1219017600   \n",
       " 3                     3                       3  Negative  1307923200   \n",
       " 4                     0                       0  Positive  1350777600   \n",
       " \n",
       "                  Summary                                               Text  \n",
       " 0  Good Quality Dog Food  I have bought several of the Vitality canned d...  \n",
       " 1      Not as Advertised  Product arrived labeled as Jumbo Salted Peanut...  \n",
       " 2  \"Delight\" says it all  This is a confection that has been around a fe...  \n",
       " 3         Cough Medicine  If you are looking for the secret ingredient i...  \n",
       " 4            Great taffy  Great taffy at a great price.  There was a wid...  ,\n",
       " (525812, 114968))"
      ]
     },
     "execution_count": 11,
     "metadata": {},
     "output_type": "execute_result"
    }
   ],
   "source": [
    "# Display the updated dataframe and the shape of the TF-IDF matrix\n",
    "Updated.head(), tfidf_matrix.shape"
   ]
  },
  {
   "cell_type": "code",
   "execution_count": null,
   "id": "5b9adeae-4fcb-4121-b3e2-2891d87fe3ae",
   "metadata": {},
   "outputs": [],
   "source": [
    "#The Updated dataframe shows the first five rows of processed data.\n",
    "#The shape of the TF-IDF matrix is (525812, 114968).\n",
    "#Indicates the number of reviews and the number of unique words."
   ]
  }
 ],
 "metadata": {
  "kernelspec": {
   "display_name": "Python 3 (ipykernel)",
   "language": "python",
   "name": "python3"
  },
  "language_info": {
   "codemirror_mode": {
    "name": "ipython",
    "version": 3
   },
   "file_extension": ".py",
   "mimetype": "text/x-python",
   "name": "python",
   "nbconvert_exporter": "python",
   "pygments_lexer": "ipython3",
   "version": "3.10.14"
  }
 },
 "nbformat": 4,
 "nbformat_minor": 5
}
